{
 "cells": [
  {
   "attachments": {},
   "cell_type": "markdown",
   "metadata": {},
   "source": [
    "<img src=\"https://raw.githubusercontent.com/paular143/images_notebooks/master/logo-sin-nombre.png\" alt=\"Universidad de Los Andes\" style=\"width: 90px;\" align=\"left\" frameborder=\"300\"/>\n",
    "\n",
    "**UNIVERSIDAD DE LOS ANDES** <br>\n",
    "**FACULTAD DE ECONOMÍA** <br>\n",
    "**TÓPICOS EN APRENDIZAJE DE MÁQUINAS** <br>\n",
    "**PROFESOR COMPLEMENTARIO:** Nicolás Rugeles <br><br>\n",
    "\n",
    "# 1. Introducción a Python\n",
    "\n",
    "¿Por qué Python? \n",
    "- Es gratis!\n",
    "- Es la monda para el Machine Learning.\n",
    "- Para cualquier duda de programación que tengas, seguro alguien ya lo solucionó en Stack Overflow\n",
    "\n",
    "<!-- <center> \n",
    "<img src = \"assets\\why_python.PNG\" width = \"500\"/>\n",
    "</center> -->\n",
    "\n",
    "Podemos usar a Python para casi cualquier cosa de desarrollo computacional, pero empecemos con lo primero. Es una calculadora :)"
   ]
  },
  {
   "cell_type": "markdown",
   "metadata": {},
   "source": [
    "## Operaciones básicas\n",
    "Realice alguna operación con los siguientes comandos\n",
    "| Operación | Resultado       |\n",
    "| --------- | --------------- |\n",
    "|    +      | Suma            |\n",
    "|    -      | Resta           |\n",
    "|    *      | Multiplicación  |\n",
    "|    /      | División        |\n",
    "|    %      | Modulo          |\n",
    "|    //     | División entera |\n",
    "|    \\*\\*   | Potencia        |"
   ]
  },
  {
   "cell_type": "code",
   "execution_count": 1,
   "metadata": {},
   "outputs": [
    {
     "name": "stdout",
     "output_type": "stream",
     "text": [
      "### Suma ###\n",
      "10\n",
      "### Resta ###\n",
      "0\n",
      "### Multiplicación ###\n",
      "15\n",
      "### División ###\n",
      "3.3333333333333335\n",
      "### Divisón entera ###\n",
      "3\n",
      "### Modulo ###\n",
      "4\n",
      "### Potencia ###\n",
      "16\n",
      "6\n",
      "2.0\n"
     ]
    }
   ],
   "source": [
    "print(\"### Suma ###\")\n",
    "print(5 + 5)\n",
    "print(\"### Resta ###\")\n",
    "print(5 - 5)\n",
    "print(\"### Multiplicación ###\")\n",
    "print(3 * 5)\n",
    "print(\"### División ###\")\n",
    "print(10 / 3)\n",
    "print(\"### Divisón entera ###\")\n",
    "print(10 // 3)\n",
    "print(\"### Modulo ###\")\n",
    "print(18 % 7)\n",
    "print(\"### Potencia ###\")\n",
    "print(4 ** 2)\n",
    "print(4^2)\n",
    "print(4 ** 0.5)"
   ]
  },
  {
   "cell_type": "markdown",
   "metadata": {},
   "source": [
    "## Variables\n",
    "Para definir variables en Python utilizamos el simbolo de igual (`=`). Como buena práctica de programación, cuando definimos un nombre, utilizamos guión bajo (`_`) para separar las palabras. **Nunca usamos un punto** (Para los que vienen de R). Adicionalmente se debe usar caracteres especiales como tildes o ñ en los nombres de los objetos que definamos.\n",
    "\n",
    "A continuación debe crear 4 variables. \n",
    "- La primera variable se debe llamar `refran` y debe ser un texto alusivo a un refran. Hint: Todos los textos deben estar entre comillas para que Python sepa que son textos.\n",
    "- La segunda variable se debe llamar `x` y debe ser un número entero.\n",
    "- La tercera variable se debe llamar `pi` y debe ser el número pi aproximado\n",
    "- La cuarta variable se debe llamar `condicion` y debe tomar el valor de `True` o `False`"
   ]
  },
  {
   "cell_type": "code",
   "execution_count": 2,
   "metadata": {},
   "outputs": [],
   "source": [
    "refran = \"Al que madruga le da sueño por la tarde\" #str\n",
    "x = 3 # int\n",
    "pi = 3.1416 # float\n",
    "condicion = True #boolean"
   ]
  },
  {
   "cell_type": "markdown",
   "metadata": {},
   "source": [
    "Note que cada variable tiene un color diferente. El color está asociado al **tipo** de variable. En mi caso, se ve verde si la variable es un texto (*string*), amarillo si es un número (*integer* o *float*) y rojo si es una variable booleana (*bool*). Para chequear el tipo de una variable siplemente escribimos:\n",
    "> type(nombre_de_la_variable)"
   ]
  },
  {
   "cell_type": "code",
   "execution_count": 3,
   "metadata": {},
   "outputs": [
    {
     "data": {
      "text/plain": [
       "'Al que madruga le da sueño por la tarde Al que madruga le da sueño por la tarde Al que madruga le da sueño por la tarde Al que madruga le da sueño por la tarde Al que madruga le da sueño por la tarde '"
      ]
     },
     "execution_count": 3,
     "metadata": {},
     "output_type": "execute_result"
    }
   ],
   "source": [
    "x+pi \n",
    "pi*condicion \n",
    "not condicion \n",
    "condicion + 1\n",
    "refran + refran \n",
    "refran * x \n",
    "(refran + \" \")* 5"
   ]
  },
  {
   "cell_type": "markdown",
   "metadata": {},
   "source": [
    "Saber la clase de los objetos con los que trabajamos es muy importante porque dependiendo de esta las operaciones y funciones a implementar van a cambiar su resultado. Por ejemplo, pruebe las siguientes operaciones:\n",
    "```python\n",
    "x + pi\n",
    "pi - 2*condicion\n",
    "not condicion\n",
    "condicion + 0\n",
    "refran + refran\n",
    "refran * 5\n",
    "```"
   ]
  },
  {
   "cell_type": "markdown",
   "metadata": {},
   "source": [
    "## Listas\n",
    "Las listas son una forma de almacenar una secuencia de objetos (iterables). Una lista puede contener objetos de diferentes tipos e incluso puede contener otras listas. La forma más fácil de construir una lista es con dos corchetes (`[]`) y separando los elementos con una coma (`[\"a\", \"b\"]`)"
   ]
  },
  {
   "cell_type": "code",
   "execution_count": 6,
   "metadata": {},
   "outputs": [
    {
     "name": "stdout",
     "output_type": "stream",
     "text": [
      "[3, 2.5, 4.2]\n",
      "['3', 6, [True, False], 3.1416]\n",
      "[[1, 2, 3], [4, 5, 6], [7, 8, 9]]\n",
      "['John', 'Paul', 'George', 'Ringo']\n",
      "[4.2, 3.8, 4.5, 2, 5]\n",
      "['mytext', 3.0, 7, [10, 20]]\n",
      "[]\n"
     ]
    }
   ],
   "source": [
    "meses=['enero', 'febrero','marzo']\n",
    "\n",
    "notas= [3,2.5,4.2]\n",
    "print(notas)\n",
    "lista_aleatoria= ['3',6,[True, False], pi]\n",
    "print(lista_aleatoria)\n",
    "matrix = [[1,2,3],[4,5,6],[7,8,9]]\n",
    "print(matrix)\n",
    "beatles = [\"John\", \"Paul\", \"George\", \"Ringo\"]\n",
    "print(beatles)\n",
    "notas_taller1 = [4.2, 3.8, 4.5, 2, 5]\n",
    "print(notas_taller1)\n",
    "random_list = ['mytext', 3.0, 7, [10, 20]]\n",
    "print(random_list)\n",
    "lista_vacia = []\n",
    "print(lista_vacia)"
   ]
  },
  {
   "cell_type": "code",
   "execution_count": 10,
   "metadata": {},
   "outputs": [
    {
     "name": "stdout",
     "output_type": "stream",
     "text": [
      "<class 'list'>\n",
      "3\n"
     ]
    },
    {
     "data": {
      "text/plain": [
       "1"
      ]
     },
     "execution_count": 10,
     "metadata": {},
     "output_type": "execute_result"
    }
   ],
   "source": [
    "# Acceder a los elementos de una lista\n",
    "print(type(matrix))\n",
    "print(len(matrix))\n",
    "matrix[0][0]"
   ]
  },
  {
   "cell_type": "markdown",
   "metadata": {},
   "source": [
    "Python es un método de programación orientado a objetos, es decir que casi todas las variables que definimos tienen ciertos atributos y propiedades. Las listas son un objeto que nos permite hacer diferentes operaciones. Empecemos partiendo nuestras listas en algunos subconjuntos.\n",
    "\n",
    "Cada elemento de una lista se encuentra en una posición. En Python se le conoce como *index* y **la primera posición es el 0**, la segunda es el 1 y así sucesivamente hasta llegar a la última posición la cual sería n - 1.\n",
    "\n",
    "Por ende, si queremos extraer el primer elemento de una lista debemos escribir `nombre_lista[0]`"
   ]
  },
  {
   "cell_type": "code",
   "execution_count": 11,
   "metadata": {},
   "outputs": [
    {
     "name": "stdout",
     "output_type": "stream",
     "text": [
      "7\n",
      "[1, 2, 3, 4, 5, 6]\n",
      "[7, 8, 9, 10]\n",
      "[2, 3, 4, 5, 6, 7, 8]\n",
      "[9, 10]\n",
      "[1, 2, 3, 4, 5, 6, 7, 8]\n",
      "[2, 3, 4, 5, 6, 7, 8]\n",
      "[2, 4, 6, 8, 10]\n",
      "[10, 8, 6, 4, 2]\n"
     ]
    }
   ],
   "source": [
    "numeros=[1,2,3,4,5,6,7,8,9,10]\n",
    "nums=list(range(1,11))\n",
    "print(numeros[6])\n",
    "print(numeros[:6])\n",
    "print(numeros[6:])\n",
    "print(numeros[1:8])\n",
    "print(numeros[-2:])\n",
    "print(numeros[:-2])\n",
    "print(numeros[1:-2])\n",
    "print(numeros[1::2])\n",
    "print(numeros[::-2])"
   ]
  },
  {
   "cell_type": "markdown",
   "metadata": {},
   "source": [
    "Si queremos extraer más de un elemento podemos usar los siguientes trucos. Tenga en cuenta que los corchetes en Python son inclusivos por la izquierda pero exclusivos por la derecha."
   ]
  },
  {
   "cell_type": "markdown",
   "metadata": {},
   "source": [
    "Las operaciones básicas entre listas son muy similares a las operaciones entre strings. \n",
    "\n",
    "OJO: Las listas son estructuras de datos, no vectores."
   ]
  },
  {
   "cell_type": "code",
   "execution_count": 20,
   "metadata": {},
   "outputs": [
    {
     "name": "stdout",
     "output_type": "stream",
     "text": [
      "Hola Hola Hola Hola Hola \n",
      "[1, 2, 3, 1, 2, 3, 1, 2, 3]\n",
      "<class 'list'>\n",
      "[1, 2, 3, 4, 5, 6]\n"
     ]
    }
   ],
   "source": [
    "lista1=[1,2,3]\n",
    "lista2=[4,5,6]\n",
    "x='Hola '\n",
    "print(x*5)\n",
    "print(lista1*3)\n",
    "print(type(lista1+lista2))\n",
    "print(lista1+lista2)\n",
    "#[lista1[i]+lista2[i] for i in range(3) if i%2==0]"
   ]
  },
  {
   "cell_type": "code",
   "execution_count": 19,
   "metadata": {},
   "outputs": [
    {
     "data": {
      "text/plain": [
       "[5, 9]"
      ]
     },
     "execution_count": 19,
     "metadata": {},
     "output_type": "execute_result"
    }
   ],
   "source": [
    "suma=[]\n",
    "for i in range(3):\n",
    "    if i%2==0:\n",
    "        suma.append(lista1[i]+lista2[i])\n",
    "suma"
   ]
  },
  {
   "cell_type": "markdown",
   "metadata": {},
   "source": [
    "## Condiciones\n",
    "Antes de entrar a los *if statements* vamos a estudiar los diferentes tipos de condiciones:\n",
    "| Operador | Resultado\n",
    "| -------- | ---------\n",
    "|   ==     | Igualdad\n",
    "|   !=     | No es igual        \n",
    "|   <      | Menor que\n",
    "|   >      | Mayor que\n",
    "|   <=     | Menor o igual\n",
    "|   >=     | Mayor o igual\n",
    "|   and    | Verifica si dos condiciones se cumplen\n",
    "|   or     | Verifica si se cumple al menos una condición\n",
    "|   not    | Niega una condición\n",
    "|   in     | Verifica si un elemento está en una lista\n",
    "\n",
    "Veamos"
   ]
  },
  {
   "cell_type": "code",
   "execution_count": 49,
   "metadata": {},
   "outputs": [
    {
     "name": "stdout",
     "output_type": "stream",
     "text": [
      "[1, 2, 3]\n"
     ]
    },
    {
     "data": {
      "text/plain": [
       "True"
      ]
     },
     "execution_count": 49,
     "metadata": {},
     "output_type": "execute_result"
    }
   ],
   "source": [
    "print(lista1)\n",
    "isinstance(3,int)\n",
    "isinstance(3,str)\n",
    "4 in lista1\n",
    "3 in lista1\n",
    "\n"
   ]
  },
  {
   "cell_type": "code",
   "execution_count": 58,
   "metadata": {},
   "outputs": [
    {
     "data": {
      "text/plain": [
       "'said soneub aloh'"
      ]
     },
     "execution_count": 58,
     "metadata": {},
     "output_type": "execute_result"
    }
   ],
   "source": [
    "string= 'hola buenos dias'\n",
    "'bue' in string\n",
    "string[::-1]"
   ]
  },
  {
   "cell_type": "code",
   "execution_count": 59,
   "metadata": {},
   "outputs": [
    {
     "name": "stdout",
     "output_type": "stream",
     "text": [
      "[4, 8, 12, 16, 20, 24, 28, 32, 36, 40]\n",
      "['4', '8', '12', '16', '20', '24', '28', '32', '36', '40']\n"
     ]
    }
   ],
   "source": [
    "L=list(range(4,41,4))\n",
    "L2= [str(x) for x in L]\n",
    "print(L)\n",
    "print(L2)"
   ]
  },
  {
   "cell_type": "code",
   "execution_count": 61,
   "metadata": {},
   "outputs": [],
   "source": [
    "condicion1= True\n",
    "condicion2 = False "
   ]
  },
  {
   "cell_type": "code",
   "execution_count": 62,
   "metadata": {},
   "outputs": [
    {
     "name": "stdout",
     "output_type": "stream",
     "text": [
      "False\n",
      "False\n",
      "True\n",
      "True\n"
     ]
    }
   ],
   "source": [
    "# Recordemos en breve las tablas lógicas de verdad\n",
    "print(condicion1 and condicion2) # T & F -> F\n",
    "print(condicion2 and condicion1) # F & T -> F\n",
    "print(condicion1 or condicion2) # T | F -> T\n",
    "print(condicion2 or condicion1) # F | T -> T"
   ]
  },
  {
   "cell_type": "markdown",
   "metadata": {},
   "source": [
    "## Control flows\n",
    "Ejecutar código en caso de que se cumplan ciertas condiciones. Acá tenemos 3 comandos básicos: `if`, `else` y `elif`.\n",
    "\n",
    "La sintaxis para los *control flows* es:\n",
    "\n",
    "```\n",
    "if condicion1:\n",
    "    # Si la condición es True se ejecuta este chunk de código\n",
    "    print(\"condicion1 es verdadera\")\n",
    "elif condicion2:\n",
    "    # Si la condición 1 es False y la condición 2 es True, se ejecuta este chunk_de_codigo\n",
    "    print(\"condicion1 es falsa y la condicion2 es verdadera\")\n",
    "else:\n",
    "    # Si la condición 1 y 2 son falsas, se ejecuta este chunk_de_codigo\n",
    "    print(\"condicion1 y la condicion 2 son falsas\")\n",
    "```\n",
    "\n",
    "Python es un lenguaje minimalista por lo que para hacer *control flows* no usa paréntesis ni corchetes. Después de la condición solo se debe incluir el símbolo de dos puntos (`:`) y el código que se desea correr si la condicion es verdadera debe estar debajo e indentado por 4 espacios (un tab)."
   ]
  },
  {
   "cell_type": "code",
   "execution_count": 63,
   "metadata": {},
   "outputs": [
    {
     "name": "stdout",
     "output_type": "stream",
     "text": [
      "Rela\n"
     ]
    }
   ],
   "source": [
    "minutos_para_llegar=10\n",
    "\n",
    "minutos_para_cita=20\n",
    "\n",
    "if minutos_para_llegar<minutos_para_cita:\n",
    "    print('Rela')\n",
    "\n",
    "else:\n",
    "    print('Correr')"
   ]
  },
  {
   "cell_type": "code",
   "execution_count": 67,
   "metadata": {},
   "outputs": [
    {
     "name": "stdout",
     "output_type": "stream",
     "text": [
      "camine rapido\n"
     ]
    }
   ],
   "source": [
    "\n",
    "minutos_para_llegar=10\n",
    "\n",
    "minutos_para_cita=5\n",
    "\n",
    "tiempo_espera=5\n",
    "\n",
    "if minutos_para_llegar<minutos_para_cita:\n",
    "    print('Rela')\n",
    "\n",
    "elif minutos_para_llegar<minutos_para_cita+tiempo_espera+5:\n",
    "    print('camine rapido')\n",
    "elif minutos_para_llegar<minutos_para_cita+tiempo_espera:\n",
    "    print('Rela')\n",
    "else:\n",
    "    print('Correr')"
   ]
  },
  {
   "cell_type": "markdown",
   "metadata": {},
   "source": [
    "## Loops\n",
    "\n",
    "Existen dos tipos de loops.\n",
    "- *for loops* en donde se itera sobre una lista de elementos.\n",
    "- *while loops* en donde se itera hasta que cierta condición se deje de cumplir"
   ]
  },
  {
   "cell_type": "code",
   "execution_count": 69,
   "metadata": {},
   "outputs": [
    {
     "name": "stdout",
     "output_type": "stream",
     "text": [
      "h\n",
      "o\n",
      "l\n",
      "a\n",
      " \n",
      "b\n",
      "u\n",
      "e\n",
      "n\n",
      "o\n",
      "s\n",
      " \n",
      "d\n",
      "i\n",
      "a\n",
      "s\n"
     ]
    }
   ],
   "source": [
    "string\n",
    "for char in string:\n",
    "    print(char)"
   ]
  },
  {
   "cell_type": "code",
   "execution_count": 72,
   "metadata": {},
   "outputs": [
    {
     "name": "stdout",
     "output_type": "stream",
     "text": [
      "[1, 2, 3]\n",
      "1\n",
      "4\n",
      "9\n",
      "1\n",
      "4\n",
      "9\n"
     ]
    }
   ],
   "source": [
    "print(lista1)\n",
    "for x in lista1:\n",
    "    print(x**2)\n",
    "for i in range(len(lista1)):\n",
    "    print(lista1[i]**2)"
   ]
  },
  {
   "cell_type": "code",
   "execution_count": 80,
   "metadata": {},
   "outputs": [
    {
     "name": "stdout",
     "output_type": "stream",
     "text": [
      "5\n",
      "5\n",
      "1\n",
      "5\n",
      "3\n",
      "3\n",
      "2\n",
      "2\n",
      "1\n",
      "1\n"
     ]
    }
   ],
   "source": [
    "import random\n",
    "x=random.randint(0,6)\n",
    "while x != 6:\n",
    "    print(x)\n",
    "    x=random.randint(0,6)"
   ]
  },
  {
   "cell_type": "markdown",
   "metadata": {},
   "source": [
    "## Funciones\n",
    "La sintaxis sería:\n",
    "```python\n",
    "def nombre_funcion(parametro1, parametro2, ...):\n",
    "    \"\"\"\n",
    "    Descripción de lo que hace la función\n",
    "\n",
    "    Parameters:\n",
    "        parametro1 (tipo_parametro1): Descripción de qué es el input y qué valores puede tomar. \n",
    "        parametro2 (tipo_parametro2): Descripción de qué es el input y qué valores puede tomar. \n",
    "\n",
    "    Returns:\n",
    "        output1 (clase_output): Descripción de lo que es el output y qué valores puede tomar.\n",
    "    \"\"\"\n",
    "\n",
    "    # Bloque de código\n",
    "    \n",
    "    return resultado\n",
    "```"
   ]
  },
  {
   "cell_type": "markdown",
   "metadata": {},
   "source": [
    "### Diccionarios\n",
    "\n",
    "Los diccionarios son usados para hacer variables que mapean e indexan elementos no organizados. En un formato de llaves y valores.\n",
    "\n",
    "```python\n",
    "diccionario = {\n",
    "     key1: value1,\n",
    "     key2: value2,\n",
    "        .\n",
    "        .\n",
    "        .\n",
    "    }\n",
    "```\n",
    "1. Defina \"a\" como un entero y \"b\" como un caracter.\n",
    "2. Defina un dictionario llamado dict_1 donde incluya un número (float), \"a\", \"b\" y lista_1\n",
    "3. Accedamos a los elementos"
   ]
  },
  {
   "cell_type": "code",
   "execution_count": 6,
   "metadata": {},
   "outputs": [],
   "source": [
    "diccionario = {\n",
    "    \"a\": 2,\n",
    "    \"b\": \"Alvaro\",\n",
    "    \"c\": 2.4,\n",
    "    \"list_1\": [\"python\", 3]\n",
    "}"
   ]
  },
  {
   "cell_type": "code",
   "execution_count": 4,
   "metadata": {},
   "outputs": [
    {
     "data": {
      "text/plain": [
       "{'a': 2, 'b': 'Alvaro', 'c': 2.4, 'list_1': ['python', 3]}"
      ]
     },
     "execution_count": 4,
     "metadata": {},
     "output_type": "execute_result"
    }
   ],
   "source": [
    "diccionario"
   ]
  }
 ],
 "metadata": {
  "interpreter": {
   "hash": "8fac594bfae6525c0c41b4041d2d72effa188cc8ead05f81b1fab2bb098927fb"
  },
  "kernelspec": {
   "display_name": "Python 3.8.5 64-bit ('base': conda)",
   "name": "python3"
  },
  "language_info": {
   "codemirror_mode": {
    "name": "ipython",
    "version": 3
   },
   "file_extension": ".py",
   "mimetype": "text/x-python",
   "name": "python",
   "nbconvert_exporter": "python",
   "pygments_lexer": "ipython3",
   "version": "3.11.7"
  },
  "orig_nbformat": 4
 },
 "nbformat": 4,
 "nbformat_minor": 2
}
